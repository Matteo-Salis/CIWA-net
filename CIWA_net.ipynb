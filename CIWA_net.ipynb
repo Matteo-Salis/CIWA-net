{
  "cells": [
    {
      "cell_type": "markdown",
      "metadata": {
        "id": "view-in-github",
        "colab_type": "text"
      },
      "source": [
        "<a href=\"https://colab.research.google.com/github/Matteo-Salis/CIWA-net/blob/main/CIWA_net.ipynb\" target=\"_parent\"><img src=\"https://colab.research.google.com/assets/colab-badge.svg\" alt=\"Open In Colab\"/></a>"
      ]
    },
    {
      "cell_type": "markdown",
      "source": [
        "# Packages, libraries & data loading"
      ],
      "metadata": {
        "id": "Olt0HFhzilx9"
      }
    },
    {
      "cell_type": "code",
      "execution_count": null,
      "metadata": {
        "id": "V_iP0E_zXwib"
      },
      "outputs": [],
      "source": [
        "!pip install rioxarray\n",
        "!pip install cftime\n",
        "!pip install netCDF4\n",
        "!pip install keras\n",
        "!pip install descartes"
      ]
    },
    {
      "cell_type": "code",
      "execution_count": null,
      "metadata": {
        "id": "Z8AXwV9mXn5H"
      },
      "outputs": [],
      "source": [
        "# import libraries\n",
        "import numpy as np\n",
        "import rioxarray\n",
        "import matplotlib.pyplot as plt\n",
        "import xarray\n",
        "from netCDF4 import num2date\n",
        "import pandas as pd\n",
        "import numpy as np\n",
        "import copy\n",
        "from datetime import datetime, timedelta\n",
        "from dateutil.relativedelta import relativedelta\n",
        "\n",
        "import tensorflow as tf\n",
        "from tensorflow import keras\n",
        "from tensorflow.keras import layers\n",
        "\n",
        "import io\n",
        "import imageio\n",
        "from IPython.display import Image, display\n",
        "from ipywidgets import widgets, Layout, HBox\n",
        "import tensorflow as tf\n",
        "from tensorflow.keras import activations\n",
        "import pickle"
      ]
    },
    {
      "cell_type": "code",
      "execution_count": null,
      "metadata": {
        "colab": {
          "base_uri": "https://localhost:8080/"
        },
        "id": "fOkcI_zXXWzX",
        "outputId": "8747a52b-e5ba-454d-9b51-3f0cbf0b0f6a"
      },
      "outputs": [
        {
          "output_type": "stream",
          "name": "stdout",
          "text": [
            "Mounted at /gdrive\n",
            "/gdrive\n"
          ]
        }
      ],
      "source": [
        "# connecting to drive: download all the file and upload on your gdrive!\n",
        "from google.colab import drive\n",
        "drive.mount('/gdrive')\n",
        "%cd /gdrive"
      ]
    },
    {
      "cell_type": "code",
      "execution_count": null,
      "metadata": {
        "id": "PISCO2HPX7at"
      },
      "outputs": [],
      "source": [
        "# paths: select your own!\n",
        "era5_path = \"/gdrive/MyDrive/Sensors/Data/Meteorology/era5_ds_reprojected.nc\"\n",
        "grace_path = \"/gdrive/MyDrive/Sensors/Data/GRACE/grace_ds_interpolated.nc\"\n",
        "era5_ds = xarray.open_dataset(era5_path) # reading ERA5 file\n",
        "grace_ds = xarray.open_dataset(grace_path) # reading GRACE file"
      ]
    },
    {
      "cell_type": "code",
      "source": [
        "era5_ds = era5_ds.drop_vars(('spatial_ref','slt', 'cvh', 'cvl', 'tvh', 'tvl')) # drop unecessary variables"
      ],
      "metadata": {
        "id": "taZSBUWTurwz"
      },
      "execution_count": null,
      "outputs": []
    },
    {
      "cell_type": "markdown",
      "source": [
        " Visualization examples"
      ],
      "metadata": {
        "id": "C69juatbsStY"
      }
    },
    {
      "cell_type": "code",
      "source": [
        "fig= plt.imshow(np.array(era5_ds[\"e\"][-8]), cmap = 'GnBu', origin = \"lower\" )\n",
        "#fig.axes.get_xaxis().set_visible(False) axis represent coordinate\n",
        "#fig.axes.get_yaxis().set_visible(False)"
      ],
      "metadata": {
        "id": "s-zofskBdcQv"
      },
      "execution_count": null,
      "outputs": []
    },
    {
      "cell_type": "code",
      "source": [
        "fig= plt.imshow(np.array(grace_ds.isel(time=15).to_array())[0], origin = \"lower\", cmap = 'RdBu', vmax = 12, vmin = -12)\n",
        "fig.axes.get_xaxis().set_visible(False)\n",
        "fig.axes.get_yaxis().set_visible(False)"
      ],
      "metadata": {
        "id": "nFWU8e4geJRo"
      },
      "execution_count": null,
      "outputs": []
    },
    {
      "cell_type": "markdown",
      "source": [
        "# Preprocessing"
      ],
      "metadata": {
        "id": "vezbPlwQi6Dr"
      }
    },
    {
      "cell_type": "code",
      "execution_count": null,
      "metadata": {
        "id": "7HP4rn1W3GNX"
      },
      "outputs": [],
      "source": [
        "# save scaling factors\n",
        "era5_ds_mean = era5_ds.mean()\n",
        "era5_ds_sd = era5_ds.std()\n",
        "grace_ds_mean = grace_ds.mean()\n",
        "grace_ds_std = grace_ds.std()\n",
        "grace_ds_min = grace_ds.min()\n",
        "grace_ds_max = grace_ds.max()"
      ]
    },
    {
      "cell_type": "code",
      "source": [
        "era5_ds_min = era5_ds.min()\n",
        "era5_ds_max = era5_ds.max()\n",
        "era5_ds_range = era5_ds_max - era5_ds_min"
      ],
      "metadata": {
        "id": "NTk9PW2HW9Rd"
      },
      "execution_count": null,
      "outputs": []
    },
    {
      "cell_type": "code",
      "execution_count": null,
      "metadata": {
        "id": "MPgqS10tx_Nm"
      },
      "outputs": [],
      "source": [
        "# standardize ERA5 dataset\n",
        "era5_std = copy.deepcopy(era5_ds)\n",
        "era5_std = (era5_std - era5_ds_mean) / era5_ds_sd"
      ]
    },
    {
      "cell_type": "code",
      "execution_count": null,
      "metadata": {
        "id": "NkgtqqCG2fFZ"
      },
      "outputs": [],
      "source": [
        "#standardize GRACE for delayed input\n",
        "\n",
        "grace_std = copy.deepcopy(grace_ds)\n",
        "grace_std = (grace_std - grace_ds_mean) / grace_ds_std\n",
        "\n",
        "# # normalize GRACE dataset\n",
        "grace_norm = copy.deepcopy(grace_ds)\n",
        "grace_norm = (grace_norm - grace_ds_min) / (grace_ds_max - grace_ds_min)"
      ]
    },
    {
      "cell_type": "markdown",
      "source": [
        "## create separate numpy array per each month"
      ],
      "metadata": {
        "id": "i6vxXOjgjJ2x"
      }
    },
    {
      "cell_type": "code",
      "execution_count": null,
      "metadata": {
        "id": "fCgthZgXbR-Y"
      },
      "outputs": [],
      "source": [
        "# prepare dataset (# month, x dim, y dim, channel)\n",
        "# Y: GRACE data (channel = 1)\n",
        "# X: ERA5 data (channel = 10) + GRACE delay (add delta channels)\n",
        "\n",
        "n_grace_delay = 2 # 1 for grace at the same time of era5, >1 more delays respect to era5\n",
        "n_era5_delay = 1 # how many time step haed the prediction is done\n",
        "T_original = era5_ds.time.shape[0] # all the time steps\n",
        "total_delay = (n_era5_delay+n_grace_delay-1) if n_grace_delay > 0 else (n_era5_delay+n_grace_delay)\n",
        "T = T_original - total_delay\n",
        " # max time steps of the features given the shift between X and Y (n_era5_delay) and grace delay\n",
        "\n",
        "X = np.zeros((T,28,28,(10 + n_grace_delay))) # n_grace_delay: month of delaied Grace\n",
        "Y = np.zeros((T,28,28,1)) # it will be shifted ahaed by n_era5_delay times"
      ]
    },
    {
      "cell_type": "code",
      "source": [
        "i = 1\n",
        "tmp = np.array(era5_std.isel(time=i).to_array())\n",
        "for j in (range(n_grace_delay)):\n",
        "  tmp = np.append(tmp, grace_std.isel(time=(i-j)).to_array(), axis = 0)\n",
        "\n",
        "tmp.shape"
      ],
      "metadata": {
        "id": "43ZXbHQNz1XA"
      },
      "execution_count": null,
      "outputs": []
    },
    {
      "cell_type": "code",
      "execution_count": null,
      "metadata": {
        "id": "1VZgz0sZbiGe"
      },
      "outputs": [],
      "source": [
        "for i in (range((max(n_grace_delay-1,0)),T_original - 1)): # T_original -1 because we will predict the last value of grace with the values of X in the last-1 month\n",
        "# n_grace_delay-1 because index start from 0\n",
        "\n",
        "  tmp = np.array(era5_std.isel(time=i).to_array()) # append grace at the same month of era5\n",
        "\n",
        "  for j in (range(n_grace_delay)):\n",
        "    tmp = np.append(tmp, grace_std.isel(time=(i-j)).to_array(), axis = 0)\n",
        "\n",
        "  X[i-max((n_grace_delay-1),0)] = tmp.transpose((1,2,0))"
      ]
    },
    {
      "cell_type": "code",
      "execution_count": null,
      "metadata": {
        "id": "1lgkONlJYiQ3"
      },
      "outputs": [],
      "source": [
        "for i in range(max(n_grace_delay,n_era5_delay),T_original): ## ptoblema con T_original\n",
        "  tmp = np.array(grace_norm.isel(time=i).to_array()[0])\n",
        "  Y[i-max(n_grace_delay,n_era5_delay)] = tmp.reshape(28,28,1)"
      ]
    },
    {
      "cell_type": "code",
      "execution_count": null,
      "metadata": {
        "id": "2uRWSCUgYavC"
      },
      "outputs": [],
      "source": [
        "print(f\"The shape of X is {X.shape} and Y is {Y.shape}\")"
      ]
    },
    {
      "cell_type": "code",
      "execution_count": null,
      "metadata": {
        "id": "V9IR880MYgSE"
      },
      "outputs": [],
      "source": [
        "# https://keras.io/examples/vision/conv_lstm/\n",
        "#\n",
        "# Vanilla CNN\n",
        "\n",
        "# model construction\n",
        "# Construct the input layer with no definite frame size.\n",
        "input = layers.Input(shape=( 28, 28, (10 + n_grace_delay)))\n",
        "\n",
        "#initializer = tf.keras.initializers.HeUniform\n",
        "\n",
        "x = layers.Conv2D(32, (3,3), padding='same', activation = 'relu')(input)\n",
        "#x = layers.PReLU()(x)\n",
        "x = layers.BatchNormalization()(x)\n",
        "x = layers.Conv2D(64, (3,3), padding='same', activation = 'relu')(x)\n",
        "#x = layers.PReLU()(x)\n",
        "#x = layers.MaxPooling2D(pool_size=(2,2))(x)\n",
        "x = layers.BatchNormalization()(x)\n",
        "\n",
        "x = layers.Conv2D(128, (3,3), padding='same', activation = 'relu')(x)\n",
        "#x = layers.PReLU()(x)\n",
        "#x = layers.MaxPooling2D(pool_size=(2,2))(x)\n",
        "x = layers.BatchNormalization()(x)\n",
        "\n",
        "x = layers.Conv2D(128, (3,3), padding='same', activation = 'relu')(x)\n",
        "#x = layers.PReLU()(x)\n",
        "#x = layers.MaxPooling2D(pool_size=(2,2))(x)\n",
        "x = layers.BatchNormalization()(x)\n",
        "\n",
        "x = layers.Conv2D(256, (3,3), padding='same', activation = 'relu')(x)\n",
        "#x = layers.PReLU()(x)\n",
        "x = layers.BatchNormalization()(x)\n",
        "x = layers.Conv2D(256, (3,3), padding='same', activation = 'relu')(x)\n",
        "#x = layers.PReLU()(x)\n",
        "x = layers.BatchNormalization()(x)\n",
        "\n",
        "x = layers.Conv2D(256, (3,3), padding='same', activation = 'relu')(x)\n",
        "#x = layers.PReLU()(x)\n",
        "#x = layers.MaxPooling2D(pool_size=(2,2))(x)\n",
        "x = layers.BatchNormalization()(x)\n",
        "\n",
        "x = layers.Conv2D(128, (3,3), padding='same', activation = 'relu')(x)\n",
        "#x = layers.PReLU()(x)\n",
        "#x = layers.MaxPooling2D(pool_size=(2,2))(x)\n",
        "x = layers.BatchNormalization()(x)\n",
        "\n",
        "x = layers.Conv2D(64, (3,3), padding='same', activation = 'relu')(x)\n",
        "#x = layers.PReLU()(x)\n",
        "#x = layers.MaxPooling2D(pool_size=(2,2))(x)\n",
        "x = layers.BatchNormalization()(x)\n",
        "\n",
        "x = layers.Conv2D(32, (3,3), padding='same', activation = 'relu')(x)\n",
        "#x = layers.PReLU()(x)\n",
        "x = layers.Flatten()(x)\n",
        "# x = layers.Dropout(0.1)(x)\n",
        "# x = layers.BatchNormalization()(x)\n",
        "x = layers.Dense((28*28), activation='sigmoid')(x)\n",
        "\n",
        "x = layers.Reshape((28,28))(x)\n",
        "\n",
        "\n",
        "# Next, we will build the complete model and compile it.\n",
        "model_CNN = keras.models.Model(input, x)\n",
        "model_CNN.compile(\n",
        "    loss=keras.losses.mean_absolute_error, optimizer=keras.optimizers.Adam(learning_rate=0.0001),\n",
        "    metrics = ['MeanSquaredError','MeanAbsoluteError']\n",
        ")\n"
      ]
    },
    {
      "cell_type": "code",
      "source": [
        "# https://www.machinelearningnuggets.com/implementing-fully-convolutional-networks-fcns-from-scratch-in-keras-and-tensorflow/\n",
        "#\n",
        "# FCN\n",
        "\n",
        "input = layers.Input(shape=( 28, 28, (10 + n_grace_delay)))\n",
        "\n",
        "initializer = tf.keras.initializers.HeUniform\n",
        "\n",
        "c0_1 = layers.Conv2D(128, (3,3), padding='same', activation = 'relu')(input) #output 28x28\n",
        "#c0_1 = layers.PReLU()(c0_1)\n",
        "c0_1 = layers.BatchNormalization()(c0_1)\n",
        "\n",
        "c0_2 = layers.Conv2D(128, (3,3), padding='same', activation = 'relu')(c0_1) #output 28x28\n",
        "#c0_2 = layers.PReLU()(c0_2)\n",
        "c0_2 = layers.BatchNormalization()(c0_2)\n",
        "\n",
        "c0_3 = layers.Conv2D(128, (3,3), padding='same', activation = 'relu')(c0_2) #output 28x28\n",
        "#c0_3 = layers.PReLU()(c0_3)\n",
        "c0_3 = layers.BatchNormalization()(c0_3)\n",
        "\n",
        "c0_4 = layers.Conv2D(128, (3,3), padding='same', activation = 'relu')(c0_3) #output 28x28\n",
        "#c0_4 = layers.PReLU()(c0_4)\n",
        "c0_4 = layers.BatchNormalization()(c0_4)\n",
        "\n",
        "c0_5 = layers.Conv2D(128, (3,3), padding='same', activation = 'relu')(c0_4) #output 28x28\n",
        "#c0_5 = layers.PReLU()(c0_5)\n",
        "c0_5 = layers.BatchNormalization()(c0_5)\n",
        "\n",
        "c0_6 = layers.Conv2D(128, (3,3), padding='same', activation = 'relu')(c0_5) #output 28x28\n",
        "#c0_6 = layers.PReLU()(c0_6)\n",
        "c0_6 = layers.BatchNormalization()(c0_6)\n",
        "\n",
        "c0_7 = layers.Conv2D(128, (3,3), padding='same', activation = 'relu')(c0_6) #output 28x28\n",
        "#c0_7 = layers.PReLU()(c0_7)\n",
        "c0_7 = layers.BatchNormalization()(c0_7)\n",
        "\n",
        "c1_1 = layers.Conv2D(128, (2,2), strides = 2, padding='same', activation = 'relu')(c0_7) # output 14x14\n",
        "#c1_1 = layers.PReLU()(c1_1)\n",
        "c1_1 = layers.BatchNormalization()(c1_1)\n",
        "\n",
        "c1_2 = layers.Conv2D(128, (2,2), padding='same', activation = 'relu')(c1_1) # output 14x14\n",
        "#c1_2 = layers.PReLU()(c1_2)\n",
        "c1_2 = layers.BatchNormalization()(c1_2)\n",
        "\n",
        "c1_3 = layers.Conv2D(256, (2,2), padding='same', activation = 'relu')(c1_2) # output 14x14\n",
        "#c1_3 = layers.PReLU()(c1_3)\n",
        "c1_3 = layers.BatchNormalization()(c1_3)\n",
        "\n",
        "c1_4 = layers.Conv2D(256, (2,2), padding='same', activation = 'relu')(c1_3) # output 14x14\n",
        "#c1_4 = layers.PReLU()(c1_4)\n",
        "c1_4 = layers.BatchNormalization()(c1_4)\n",
        "\n",
        "c1_5 = layers.Conv2D(256, (2,2), padding='same', activation = 'relu')(c1_4) # output 14x14\n",
        "#c1_5 = layers.PReLU()(c1_5)\n",
        "c1_5 = layers.BatchNormalization()(c1_5)\n",
        "\n",
        "c2_1 = layers.Conv2D(512, (2,2), strides = 2, padding='same', activation = 'relu')(c1_5) # output 7x7\n",
        "#c2_1 = layers.PReLU()(c2_1)\n",
        "c2_1 = layers.BatchNormalization()(c2_1)\n",
        "\n",
        "# stop downsample\n",
        "c2_2 = layers.Conv2D(512, (2,2), padding='same', activation = 'relu')(c2_1) # output 7x7\n",
        "#c2_2 = layers.PReLU()(c2_2)\n",
        "c2_2 = layers.BatchNormalization()(c2_2)\n",
        "\n",
        "c2_3 = layers.Conv2D(512, (2,2), padding='same', activation = 'relu')(c2_2) # output 7x7\n",
        "#c2_3 = layers.PReLU()(c2_3)\n",
        "c2_3 = layers.BatchNormalization()(c2_3)\n",
        "\n",
        "c2_4 = layers.Conv2D(512, (2,2), padding='same', activation = 'relu')(c2_3) # output 7x7\n",
        "#c2_4 = layers.PReLU()(c2_4)\n",
        "c2_4 = layers.BatchNormalization()(c2_4)\n",
        "\n",
        "c2_5 = layers.Conv2D(512, (2,2), padding='same', activation = 'relu')(c2_4) # output 7x7\n",
        "#c2_5 = layers.PReLU()(c2_5)\n",
        "c2_5 = layers.BatchNormalization()(c2_5)\n",
        "\n",
        "c2_6 = layers.Conv2D(512, (2,2), padding='same', activation = 'relu')(c2_5) # output 7x7\n",
        "#c2_5 = layers.PReLU()(c2_6)\n",
        "c2_6 = layers.BatchNormalization()(c2_6)\n",
        "\n",
        "# start upsample\n",
        "u1_1 = layers.Conv2DTranspose(256, (2, 2), strides=(2,2), padding='same', activation = 'relu')(c2_6) # output 14x14\n",
        "#u1_1 = layers.PReLU()(u1_1)\n",
        "u1_1 = layers.BatchNormalization()(u1_1)\n",
        "\n",
        "add1 = layers.Add()([u1_1, c1_5])\n",
        "add1 = layers.Activation(activations.relu)(add1)\n",
        "\n",
        "u1_2 = layers.Conv2D(256, (2, 2), padding='same', activation = 'relu')(add1) # output 14x14\n",
        "#u1_2 = layers.PReLU()(u1_2)\n",
        "u1_2 = layers.BatchNormalization()(u1_2)\n",
        "\n",
        "u1_3 = layers.Conv2D(256, (2, 2), padding='same', activation = 'relu')(u1_2) # output 14x14\n",
        "#u1_3 = layers.PReLU()(u1_3)\n",
        "u1_3 = layers.BatchNormalization()(u1_3)\n",
        "\n",
        "u1_4 = layers.Conv2D(128, (2, 2), padding='same', activation = 'relu')(u1_3) # output 14x14\n",
        "#u1_4 = layers.PReLU()(u1_4)\n",
        "u1_4 = layers.BatchNormalization()(u1_4)\n",
        "\n",
        "u1_5 = layers.Conv2D(128, (2, 2), padding='same', activation = 'relu')(u1_4) # output 14x14\n",
        "#u1_5 = layers.PReLU()(u1_5)\n",
        "u1_5 = layers.BatchNormalization()(u1_5)\n",
        "\n",
        "u2_1 = layers.Conv2DTranspose(128, (2, 2), strides=2, padding='same', activation = 'relu')(u1_5) # output 28x28\n",
        "#u2_1 = layers.PReLU()(u2_1)\n",
        "u2_1 = layers.BatchNormalization()(u2_1)\n",
        "\n",
        "add2 = layers.Add()([u2_1, c0_7])\n",
        "add2 = layers.Activation(activations.relu)(add2)\n",
        "\n",
        "u3_1 = layers.Conv2D(128, (3,3), padding='same', activation = 'relu')(add2) # output 28x28\n",
        "#u3_1 = layers.PReLU()(u3_1)\n",
        "u3_1 = layers.BatchNormalization()(u3_1)\n",
        "\n",
        "u3_2 = layers.Conv2D(128, (3,3), padding='same', activation = 'relu')(u3_1) # output 28x28\n",
        "#u3_2 = layers.PReLU()(u3_2)\n",
        "u3_2 = layers.BatchNormalization()(u3_2)\n",
        "\n",
        "u3_3 = layers.Conv2D(128, (3,3), padding='same', activation = 'relu')(u3_2) # output 28x28\n",
        "#u3_3 = layers.PReLU()(u3_3)\n",
        "u3_3 = layers.BatchNormalization()(u3_3)\n",
        "\n",
        "u3_4 = layers.Conv2D(128, (3,3), padding='same', activation = 'relu')(u3_3) # output 28x28\n",
        "#u3_4 = layers.PReLU()(u3_4)\n",
        "u3_4 = layers.BatchNormalization()(u3_4)\n",
        "\n",
        "add3 = layers.Add()([u3_4, c0_3])\n",
        "add3 = layers.Activation(activations.relu)(add3)\n",
        "\n",
        "u3_5 = layers.Conv2D(128, (3,3), padding='same', activation = 'relu')(add3) # output 28x28\n",
        "#u3_5 = layers.PReLU()(u3_5)\n",
        "u3_5 = layers.BatchNormalization()(u3_5)\n",
        "\n",
        "u3_6 = layers.Conv2D(128, (3,3), padding='same', activation = 'relu')(u3_5) # output 28x28\n",
        "#u3_6 = layers.PReLU()(u3_6)\n",
        "u3_6 = layers.BatchNormalization()(u3_6)\n",
        "\n",
        "u3_7 = layers.Conv2D(128, (3,3), padding='same', activation = 'relu')(u3_6) # output 28x28\n",
        "#u3_7 = layers.PReLU()(u3_7)\n",
        "u3_7 = layers.BatchNormalization()(u3_7)\n",
        "\n",
        "u3_8 = layers.Conv2D(64, (3,3), padding='same', activation = 'relu')(u3_7) # output 28x28\n",
        "#u3_8 = layers.PReLU()(u3_8)\n",
        "u3_8 = layers.BatchNormalization()(u3_8)\n",
        "\n",
        "out = layers.Conv2D(1, 3, padding='same', activation='sigmoid')(u3_8) # output 28x28\n",
        "\n",
        "model_FCN = keras.models.Model(input, out)\n",
        "model_FCN.compile(\n",
        "    loss=keras.losses.mean_absolute_error, optimizer=keras.optimizers.Adam(learning_rate=0.0001),\n",
        "    metrics = ['MeanSquaredError','MeanAbsoluteError']\n",
        ")"
      ],
      "metadata": {
        "id": "xilSpiua5JIa"
      },
      "execution_count": null,
      "outputs": []
    },
    {
      "cell_type": "code",
      "execution_count": null,
      "metadata": {
        "id": "6LbRVQwlhnAR"
      },
      "outputs": [],
      "source": [
        "model_CNN.summary()"
      ]
    },
    {
      "cell_type": "code",
      "source": [
        "model_FCN.summary()"
      ],
      "metadata": {
        "id": "1AukWQ1j9NIm"
      },
      "execution_count": null,
      "outputs": []
    },
    {
      "cell_type": "markdown",
      "source": [
        "## Split training and test"
      ],
      "metadata": {
        "id": "zRjCPWTIlLiQ"
      }
    },
    {
      "cell_type": "code",
      "source": [
        "shift_grace_delay = (n_grace_delay -1) if n_grace_delay > 0 else n_grace_delay"
      ],
      "metadata": {
        "id": "Vrzr7cPqYXOO"
      },
      "execution_count": null,
      "outputs": []
    },
    {
      "cell_type": "code",
      "source": [
        "split = int(np.ceil((179-n_era5_delay)*0.85)); split"
      ],
      "metadata": {
        "colab": {
          "base_uri": "https://localhost:8080/"
        },
        "id": "RtjSe1-MWJeo",
        "outputId": "a95d94a5-a711-4973-b932-8dbd006366cf"
      },
      "execution_count": null,
      "outputs": [
        {
          "output_type": "execute_result",
          "data": {
            "text/plain": [
              "152"
            ]
          },
          "metadata": {},
          "execution_count": 19
        }
      ]
    },
    {
      "cell_type": "code",
      "source": [
        "actual_split = split-shift_grace_delay; actual_split"
      ],
      "metadata": {
        "colab": {
          "base_uri": "https://localhost:8080/"
        },
        "id": "YH-S7-qwZjMb",
        "outputId": "770bd1bf-1690-455a-f1f7-c15f097aeda6"
      },
      "execution_count": null,
      "outputs": [
        {
          "output_type": "execute_result",
          "data": {
            "text/plain": [
              "151"
            ]
          },
          "metadata": {},
          "execution_count": 20
        }
      ]
    },
    {
      "cell_type": "code",
      "source": [
        "# Xt predict yt+1\n",
        "x_train = X[:actual_split] #before fixed at 151\n",
        "y_train = Y[:actual_split]\n",
        "x_val = X[actual_split:] #before fixed at 151\n",
        "y_val = Y[actual_split:]"
      ],
      "metadata": {
        "id": "az_A8eohKqsh"
      },
      "execution_count": null,
      "outputs": []
    },
    {
      "cell_type": "code",
      "source": [
        "print(x_train.shape)\n",
        "print(x_val.shape)\n",
        "print(y_train.shape)\n",
        "print(y_val.shape)"
      ],
      "metadata": {
        "id": "aWKG8qNKddxJ"
      },
      "execution_count": null,
      "outputs": []
    },
    {
      "cell_type": "markdown",
      "source": [
        "# Training"
      ],
      "metadata": {
        "id": "zeWvLn-Blcwm"
      }
    },
    {
      "cell_type": "markdown",
      "source": [
        "## CNN model"
      ],
      "metadata": {
        "id": "ou4kqv4ilfWN"
      }
    },
    {
      "cell_type": "code",
      "execution_count": null,
      "metadata": {
        "id": "MYeJiQTHgtXx"
      },
      "outputs": [],
      "source": [
        "# Define some callbacks to improve training.\n",
        "early_stopping = keras.callbacks.EarlyStopping(monitor=\"val_loss\", patience=70)\n",
        "reduce_lr = keras.callbacks.ReduceLROnPlateau(monitor=\"val_loss\", patience=20)\n",
        "\n",
        "# Define modifiable training hyperparameters.\n",
        "epochs = 500\n",
        "batch_size = 4\n",
        "\n",
        "# Fit the model to the training data.\n",
        "history_2_CNN = model_CNN.fit(\n",
        "    x_train,\n",
        "    y_train,\n",
        "    batch_size=batch_size,\n",
        "    epochs=epochs,\n",
        "    validation_data=(x_val, y_val),\n",
        "    callbacks=[early_stopping, reduce_lr],\n",
        ")"
      ]
    },
    {
      "cell_type": "code",
      "source": [
        "# save results\n",
        "filename_CNN = '/gdrive/MyDrive/Sensors/Scripts/Grace/Models/'+'CNN_delay_'+str(n_grace_delay)+'.keras'\n",
        "model_CNN.save(filename_CNN)"
      ],
      "metadata": {
        "id": "4fSN4ThJDowe"
      },
      "execution_count": null,
      "outputs": []
    },
    {
      "cell_type": "markdown",
      "source": [
        "## CIWA-net model"
      ],
      "metadata": {
        "id": "NiT28HnzlohQ"
      }
    },
    {
      "cell_type": "code",
      "source": [
        "# Define some callbacks to improve training.\n",
        "early_stopping = keras.callbacks.EarlyStopping(monitor=\"val_loss\", patience=70)\n",
        "reduce_lr = keras.callbacks.ReduceLROnPlateau(monitor=\"val_loss\", patience=20)\n",
        "\n",
        "# Define modifiable training hyperparameters.\n",
        "epochs = 500\n",
        "batch_size = 4\n",
        "\n",
        "# Fit the model to the training data.\n",
        "history_2_FCN = model_FCN.fit(\n",
        "    x_train,\n",
        "    y_train,\n",
        "    batch_size=batch_size,\n",
        "    epochs=epochs,\n",
        "    validation_data=(x_val, y_val),\n",
        "    callbacks=[early_stopping, reduce_lr],\n",
        ")"
      ],
      "metadata": {
        "id": "enMZfPUv_VnD"
      },
      "execution_count": null,
      "outputs": []
    },
    {
      "cell_type": "code",
      "source": [
        "# save results\n",
        "filename_FCN = '/gdrive/MyDrive/Sensors/Scripts/Grace/Models/'+'FCN_delay_'+str(n_grace_delay)+'.keras'\n",
        "model_FCN.save(filename_FCN)"
      ],
      "metadata": {
        "id": "vEFh-CQr-pzK"
      },
      "execution_count": null,
      "outputs": []
    },
    {
      "cell_type": "markdown",
      "source": [
        "# Prediction\n",
        " here we load our CIWA-net pre-trained model"
      ],
      "metadata": {
        "id": "CcjBxr8U7lUo"
      }
    },
    {
      "cell_type": "code",
      "execution_count": null,
      "metadata": {
        "id": "EaVQOFin7inz"
      },
      "outputs": [],
      "source": [
        "best_model = keras.models.load_model('/gdrive/MyDrive/Sensors/Scripts/Grace/Models/'+'FCN_delay_'+str(2)+'.keras')\n",
        "Y_pred_best = best_model.predict(X)"
      ]
    },
    {
      "cell_type": "code",
      "execution_count": null,
      "metadata": {
        "id": "_JADBNOb-cZD"
      },
      "outputs": [],
      "source": [
        "# plotting prediction examples\n",
        "y = Y[0]\n",
        "y.shape"
      ]
    },
    {
      "cell_type": "code",
      "execution_count": null,
      "metadata": {
        "id": "sPTDCNE6Dz6k"
      },
      "outputs": [],
      "source": [
        "y_pred_best = Y_pred_best[0]\n",
        "y_pred_best.shape"
      ]
    },
    {
      "cell_type": "code",
      "execution_count": null,
      "metadata": {
        "id": "gH52Xn-zCtjV"
      },
      "outputs": [],
      "source": [
        "plt.figure()\n",
        "\n",
        "f, axarr = plt.subplots(1,2)\n",
        "\n",
        "axarr[0].imshow(y_pred_best, origin=\"lower\", vmin = y.min(), vmax = y.max())\n",
        "axarr[0].set_title('Training prediction')\n",
        "\n",
        "axarr[1].imshow(y, origin=\"lower\", vmin = y.min(), vmax = y.max())\n",
        "axarr[1].set_title('Training truth')"
      ]
    },
    {
      "cell_type": "code",
      "source": [
        "plt.figure()\n",
        "\n",
        "#subplot(r,c) provide the no. of rows and columns\n",
        "f, axarr = plt.subplots(2,6,figsize=(12, 6))\n",
        "f.suptitle('Training samples')\n",
        "\n",
        "# use the created array to output your multiple images. In this case I have stacked 4 images vertically\n",
        "axarr[0,0].imshow(Y[0], origin=\"lower\")\n",
        "axarr[0,0].set_title('True')\n",
        "axarr[0,1].imshow(Y[1], origin=\"lower\")\n",
        "axarr[0,2].imshow(Y[2], origin=\"lower\")\n",
        "axarr[0,3].imshow(Y[3], origin=\"lower\")\n",
        "axarr[0,4].imshow(Y[4], origin=\"lower\")\n",
        "axarr[0,5].imshow(Y[5], origin=\"lower\")\n",
        "\n",
        "axarr[1,0].imshow(Y_pred_best[0], origin=\"lower\", vmin = Y[0].min(), vmax = Y[0].max())\n",
        "axarr[1,0].set_title('FCN training prediction')\n",
        "axarr[1,1].imshow(Y_pred_best[1], origin=\"lower\", vmin = Y[1].min(), vmax = Y[1].max())\n",
        "axarr[1,2].imshow(Y_pred_best[2], origin=\"lower\", vmin = Y[2].min(), vmax = Y[2].max())\n",
        "axarr[1,3].imshow(Y_pred_best[3], origin=\"lower\", vmin = Y[3].min(), vmax = Y[3].max())\n",
        "axarr[1,4].imshow(Y_pred_best[4], origin=\"lower\", vmin = Y[4].min(), vmax = Y[4].max())\n",
        "axarr[1,5].imshow(Y_pred_best[5], origin=\"lower\", vmin = Y[5].min(), vmax = Y[5].max())"
      ],
      "metadata": {
        "id": "tArTkWpGMJ4a"
      },
      "execution_count": null,
      "outputs": []
    },
    {
      "cell_type": "markdown",
      "source": [
        "Re-scale the output"
      ],
      "metadata": {
        "id": "HDSIgxvOmZEo"
      }
    },
    {
      "cell_type": "code",
      "execution_count": null,
      "metadata": {
        "id": "DoRhkIBCCws6"
      },
      "outputs": [],
      "source": [
        "# rescaled output\n",
        "\n",
        "Y_rescaled = (Y*(float(grace_ds_max['lwe_thickness'].values) - float(grace_ds_min['lwe_thickness'].values))) + float(grace_ds_min['lwe_thickness'].values)\n",
        "Y_pred_rescaled = (Y_pred_best*(float(grace_ds_max['lwe_thickness'].values) - float(grace_ds_min['lwe_thickness'].values))) + float(grace_ds_min['lwe_thickness'].values)\n",
        "\n",
        "Y_true = Y_rescaled # otherwise Y\n",
        "Y_predicted = Y_pred_rescaled # otherwise Y_pred\n",
        "\n",
        "last = -15 # in the image (the younger)\n",
        "first = -19\n",
        "vmin = -20#Y_true[first:last].min()\n",
        "vmax = 20#Y_true[first:last].max()\n",
        "\n",
        "plt.figure()\n",
        "\n",
        "#subplot(r,c) provide the no. of rows and columns\n",
        "f, axarr = plt.subplots(2,6,figsize=(12, 6))\n",
        "#f.suptitle('True images')\n",
        "\n",
        "# use the created array to output your multiple images. In this case I have stacked 4 images vertically\n",
        "prova = axarr[0,5].imshow(Y_true[first+5], origin=\"lower\", vmin = vmin, vmax = vmax, cmap = 'RdBu')\n",
        "axarr[0,5].set_title('True '+str(grace_ds[\"time\"][first+5].dt.strftime(\"%Y-%m\").values))\n",
        "axarr[0,5].axis('off')\n",
        "\n",
        "axarr[0,4].imshow(Y_true[first+4], origin=\"lower\", vmin = vmin, vmax = vmax, cmap = 'RdBu')\n",
        "axarr[0,4].set_title('True '+str(grace_ds[\"time\"][first+4].dt.strftime(\"%Y-%m\").values))\n",
        "axarr[0,4].axis('off')\n",
        "\n",
        "axarr[0,3].imshow(Y_true[first+3], origin=\"lower\", vmin = vmin, vmax = vmax, cmap = 'RdBu')\n",
        "axarr[0,3].set_title('True '+str(grace_ds[\"time\"][first+3].dt.strftime(\"%Y-%m\").values))\n",
        "axarr[0,3].axis('off')\n",
        "\n",
        "axarr[0,2].imshow(Y_true[first+2], origin=\"lower\", vmin = vmin, vmax = vmax, cmap = 'RdBu')\n",
        "axarr[0,2].set_title('True '+str(grace_ds[\"time\"][first+2].dt.strftime(\"%Y-%m\").values))\n",
        "axarr[0,2].axis('off')\n",
        "\n",
        "axarr[0,1].imshow(Y_true[first+1], origin=\"lower\", vmin = vmin, vmax = vmax, cmap = 'RdBu')\n",
        "axarr[0,1].set_title('True '+str(grace_ds[\"time\"][first+1].dt.strftime(\"%Y-%m\").values))\n",
        "axarr[0,1].axis('off')\n",
        "\n",
        "axarr[0,0].imshow(Y_true[first], origin=\"lower\", vmin = vmin, vmax = vmax, cmap = 'RdBu')\n",
        "axarr[0,0].set_title('True '+str(grace_ds[\"time\"][first].dt.strftime(\"%Y-%m\").values))\n",
        "axarr[0,0].axis('off')\n",
        "\n",
        "#f.suptitle('Predicted images')\n",
        "\n",
        "axarr[1,5].imshow(Y_predicted[first+5], origin=\"lower\", vmin = vmin, vmax = vmax, cmap = 'RdBu')\n",
        "axarr[1,5].set_title('Predicted '+str(grace_ds[\"time\"][first+5].dt.strftime(\"%Y-%m\").values))\n",
        "axarr[1,5].axis('off')\n",
        "\n",
        "axarr[1,4].imshow(Y_predicted[first+4], origin=\"lower\", vmin = vmin, vmax = vmax, cmap = 'RdBu')\n",
        "axarr[1,4].set_title('Predicted '+str(grace_ds[\"time\"][first+4].dt.strftime(\"%Y-%m\").values))\n",
        "axarr[1,4].axis('off')\n",
        "\n",
        "axarr[1,3].imshow(Y_predicted[first+3], origin=\"lower\", vmin = vmin, vmax = vmax, cmap = 'RdBu')\n",
        "axarr[1,3].set_title('Predicted '+str(grace_ds[\"time\"][first+3].dt.strftime(\"%Y-%m\").values))\n",
        "axarr[1,3].axis('off')\n",
        "\n",
        "axarr[1,2].imshow(Y_predicted[first+2], origin=\"lower\", vmin = vmin, vmax = vmax, cmap = 'RdBu')\n",
        "axarr[1,2].set_title('Predicted '+str(grace_ds[\"time\"][first+2].dt.strftime(\"%Y-%m\").values))\n",
        "axarr[1,2].axis('off')\n",
        "\n",
        "axarr[1,1].imshow(Y_predicted[first+1], origin=\"lower\", vmin = vmin, vmax = vmax, cmap = 'RdBu')\n",
        "axarr[1,1].set_title('Predicted '+str(grace_ds[\"time\"][first+1].dt.strftime(\"%Y-%m\").values))\n",
        "axarr[1,1].axis('off')\n",
        "\n",
        "axarr[1,0].imshow(Y_predicted[first], origin=\"lower\", vmin = vmin, vmax = vmax, cmap = 'RdBu')\n",
        "axarr[1,0].set_title('Predicted '+str(grace_ds[\"time\"][first].dt.strftime(\"%Y-%m\").values))\n",
        "axarr[1,0].axis('off')\n",
        "\n",
        "f.colorbar(prova, cax=plt.axes([1, 0.15, 0.015, 0.7]), location='right', shrink=0.6, extend = 'both')\n",
        "\n",
        "#f.clim([Y_true[-12:-7].min(), Y_true[-12:-7].max()])\n",
        "\n",
        "plt.subplots_adjust(hspace=-0.3)\n",
        "f.tight_layout(pad=0.5)\n",
        "\n",
        "#axarr[0.0].get_xaxis().set_visible(False)"
      ]
    },
    {
      "cell_type": "markdown",
      "source": [
        "# Compute errors"
      ],
      "metadata": {
        "id": "vUL2Ul3bzu9P"
      }
    },
    {
      "cell_type": "markdown",
      "source": [
        "## Mean time series"
      ],
      "metadata": {
        "id": "gt_sZfy0vhxd"
      }
    },
    {
      "cell_type": "code",
      "source": [
        "# not normalized\n",
        "\n",
        "best_prediction = Y_pred_rescaled[actual_split:,:,:,0] # on the validation\n",
        "true_values = Y_rescaled[actual_split:,:,:,0]"
      ],
      "metadata": {
        "id": "F-FjftI1vptJ"
      },
      "execution_count": null,
      "outputs": []
    },
    {
      "cell_type": "code",
      "source": [
        "mean_per_time = np.mean(true_values, axis = (1,2))\n",
        "pred_per_time = np.mean(best_prediction, axis = (1,2))\n",
        "abs_diff_per_time = np.abs(mean_per_time - pred_per_time)"
      ],
      "metadata": {
        "id": "awNKVRJTvtm9"
      },
      "execution_count": null,
      "outputs": []
    },
    {
      "cell_type": "code",
      "source": [
        "range_per_time = np.ones((26))\n",
        "for i in range(0,26):\n",
        " range_per_time[i] = (true_values[i,:,:].max()-true_values[i,:,:].min())"
      ],
      "metadata": {
        "id": "20H0jAXmfuz6"
      },
      "execution_count": null,
      "outputs": []
    },
    {
      "cell_type": "code",
      "source": [
        "error_date = grace_ds['time'][-26:].values"
      ],
      "metadata": {
        "id": "UkE6NPHqv8kC"
      },
      "execution_count": null,
      "outputs": []
    },
    {
      "cell_type": "code",
      "source": [
        "plt.plot(error_date,mean_per_time, color = 'navy', marker = 'o', label = \"True\")\n",
        "plt.plot(error_date,pred_per_time, color = 'cadetblue', marker = 'o', label = \"Predicted\")\n",
        "plt.xticks(error_date,rotation = 90)\n",
        "plt.ylabel(\"normalized TWSA\") # non normalized [cm]\n",
        "plt.xlabel(\"Dates\")\n",
        "plt.legend()"
      ],
      "metadata": {
        "id": "cSV4yI89wBRi"
      },
      "execution_count": null,
      "outputs": []
    },
    {
      "cell_type": "code",
      "source": [
        "plt.plot(error_date,range_per_time, color = 'green', marker = 'o')"
      ],
      "metadata": {
        "id": "OYvQVFCaadD7"
      },
      "execution_count": null,
      "outputs": []
    },
    {
      "cell_type": "markdown",
      "source": [
        "## MAE and RMSE time series\n"
      ],
      "metadata": {
        "id": "GNkDIoa5N3SB"
      }
    },
    {
      "cell_type": "code",
      "source": [
        "sum_of_squares=(best_prediction - true_values)**2\n",
        "mse_per_time = np.mean(sum_of_squares, axis = (1,2))\n",
        "rmse_per_time = np.sqrt(mse_per_time)\n",
        "\n",
        "absolute_error = np.abs(best_prediction - true_values)\n",
        "mae_per_time = np.mean(absolute_error, axis = (1,2))"
      ],
      "metadata": {
        "id": "lTkdtIkSN7h0"
      },
      "execution_count": null,
      "outputs": []
    },
    {
      "cell_type": "code",
      "source": [
        "plt.plot(error_date,rmse_per_time, color = 'darkmagenta', marker = 'o', label = \"RMSE\")\n",
        "plt.plot(error_date,mae_per_time, color = 'magenta', marker = 'o', label = \"MAE\")\n",
        "plt.xticks(error_date,rotation = 90)\n",
        "plt.ylabel(\"RMSE and MAE [cm]\") #and Mean Absolute Error (MAE)\n",
        "plt.xlabel(\"Dates\")\n",
        "plt.legend()"
      ],
      "metadata": {
        "id": "2bKwL_f7Okrw"
      },
      "execution_count": null,
      "outputs": []
    },
    {
      "cell_type": "code",
      "source": [
        "fig = plt.figure()\n",
        "gs = fig.add_gridspec(2, hspace=0)\n",
        "axs = gs.subplots(sharex=True)\n",
        "\n",
        "#fig.suptitle('True and predicted average TWSA & RMSE')\n",
        "\n",
        "axs[0].plot(error_date,mean_per_time, color = 'navy', marker = 'o', label = \"True\")\n",
        "axs[0].plot(error_date,pred_per_time, color = 'cadetblue', marker = 'o', label = \"Predicted\")\n",
        "#axs[0].set_title('True and Prediction TWSA average series')\n",
        "axs[0].set_yticks((-9,-6,-3,0,3,6,9,12))\n",
        "axs[0].set_xticks(error_date)\n",
        "axs[0].tick_params(axis='x', rotation=90)\n",
        "axs[0].set(xlabel = \"Dates\", ylabel = \"TWSA [cm]\")\n",
        "axs[0].grid(axis=\"x\")\n",
        "axs[0].legend()\n",
        "\n",
        "axs[1].plot(error_date,rmse_per_time, color = 'darkmagenta', marker = 'o', label = \"RMSE\")\n",
        "#axs[1].plot(error_date,mae_per_time, color = 'magenta', marker = 'o', label = \"MAE\")\n",
        "\n",
        "#axs[1].set_title('RMSE series')\n",
        "axs[1].set_yticks((0,1,2,3,4,5,6,7,8))\n",
        "axs[1].yaxis.set_label_position(\"right\")\n",
        "axs[1].yaxis.tick_right()\n",
        "axs[1].set_xticks(error_date)\n",
        "axs[1].tick_params(axis='x', rotation=90)\n",
        "axs[1].set(xlabel = \"Dates\", ylabel = \"RMSE [cm]\") #and MAE\n",
        "axs[1].grid(axis=\"x\")\n"
      ],
      "metadata": {
        "id": "knjNorQqweIx"
      },
      "execution_count": null,
      "outputs": []
    },
    {
      "cell_type": "markdown",
      "source": [
        "## Percentage error (NRMSE)"
      ],
      "metadata": {
        "id": "CjD6hKfOwT3e"
      }
    },
    {
      "cell_type": "code",
      "source": [
        "nrmse_range = np.divide(rmse_per_time,np.abs(range_per_time))*100"
      ],
      "metadata": {
        "id": "BhR5bUQywbQy"
      },
      "execution_count": null,
      "outputs": []
    },
    {
      "cell_type": "code",
      "source": [
        "plt.plot(error_date,nrmse_range, color = 'green', marker = 'o', label = \"NRMSE-Mn\")\n",
        "plt.xticks(error_date,rotation = 90)\n",
        "plt.ylabel(\"NRMSE[%]\")\n",
        "plt.xlabel(\"Dates\")\n",
        "plt.legend()"
      ],
      "metadata": {
        "id": "ViHL9fpgwTJW"
      },
      "execution_count": null,
      "outputs": []
    },
    {
      "cell_type": "code",
      "source": [
        "fig = plt.figure()\n",
        "gs = fig.add_gridspec(3, hspace=0)\n",
        "axs = gs.subplots(sharex=True)\n",
        "\n",
        "\n",
        "axs[0].plot(error_date,mean_per_time, color = 'navy', marker = 'o', label = \"True\")\n",
        "axs[0].plot(error_date,pred_per_time, color = 'cadetblue', marker = 'o', label = \"Predicted\")\n",
        "#axs[0].set_title('True and Prediction TWSA average series')\n",
        "axs[0].set_yticks((-9,-6,-3,0,3,6,9,12))\n",
        "axs[0].set_xticks(error_date)\n",
        "axs[0].tick_params(axis='x', rotation=90)\n",
        "axs[0].set(xlabel = \"Dates\", ylabel = \"TWSA [cm]\")\n",
        "axs[0].grid(axis=\"x\")\n",
        "axs[0].legend()\n",
        "\n",
        "axs[1].plot(error_date,rmse_per_time, color = 'magenta', marker = 'o')\n",
        "#axs[1].set_title('RMSE series')\n",
        "axs[1].set_yticks((0,2,4,6,8))\n",
        "axs[1].yaxis.set_label_position(\"right\")\n",
        "axs[1].yaxis.tick_right()\n",
        "axs[1].set_xticks(error_date)\n",
        "axs[1].tick_params(axis='x', rotation=90)\n",
        "axs[1].set(xlabel = \"Dates\", ylabel = \"RMSE [cm]\")\n",
        "axs[1].grid(axis=\"x\")\n",
        "\n",
        "axs[2].plot(error_date,nrmse_range, color = 'darkmagenta', marker = 'o')\n",
        "axs[2].set_yticks((0,5,10,15,20,25,30,35))\n",
        "axs[2].set_xticks(error_date)\n",
        "axs[2].tick_params(axis='x', rotation=90)\n",
        "axs[2].set(xlabel = \"Dates\", ylabel = \"NRMSE [%]\")\n",
        "axs[2].grid(axis=\"x\")"
      ],
      "metadata": {
        "id": "NF8rINwTwN_E"
      },
      "execution_count": null,
      "outputs": []
    },
    {
      "cell_type": "code",
      "source": [
        "np.median(nrmse_range)"
      ],
      "metadata": {
        "id": "Rto7tmfywVs5"
      },
      "execution_count": null,
      "outputs": []
    },
    {
      "cell_type": "code",
      "source": [
        "np.mean(nrmse_range)"
      ],
      "metadata": {
        "id": "-dtF4qpyFz-2"
      },
      "execution_count": null,
      "outputs": []
    },
    {
      "cell_type": "code",
      "source": [
        "np.std(nrmse_range)"
      ],
      "metadata": {
        "id": "BQnu_Bk790Tu"
      },
      "execution_count": null,
      "outputs": []
    },
    {
      "cell_type": "code",
      "source": [
        "np.max(nrmse_range)"
      ],
      "metadata": {
        "id": "5lMDzmiBZT6B"
      },
      "execution_count": null,
      "outputs": []
    },
    {
      "cell_type": "markdown",
      "source": [
        "## Maps"
      ],
      "metadata": {
        "id": "Hcf60wfNGXpQ"
      }
    },
    {
      "cell_type": "code",
      "source": [
        "best_prediction = Y_pred_rescaled[actual_split:,:,:,0] # on the validation\n",
        "true_values = Y_rescaled[actual_split:,:,:,0]"
      ],
      "metadata": {
        "id": "Jge4npwgGcGq"
      },
      "execution_count": null,
      "outputs": []
    },
    {
      "cell_type": "code",
      "source": [
        "mean_map = np.mean(true_values, axis = 0)\n",
        "pred_map = np.mean(best_prediction, axis = 0)"
      ],
      "metadata": {
        "id": "YhyyU6XRGcp9"
      },
      "execution_count": null,
      "outputs": []
    },
    {
      "cell_type": "code",
      "source": [
        "range_map = np.ones((26,28,28))"
      ],
      "metadata": {
        "id": "HpSAmFOskxve"
      },
      "execution_count": null,
      "outputs": []
    },
    {
      "cell_type": "code",
      "source": [
        "max_map = np.max(true_values, axis = 0)\n",
        "min_map = np.min(true_values, axis = 0)\n",
        "range_map = max_map - min_map"
      ],
      "metadata": {
        "id": "KCbee31IlRXF"
      },
      "execution_count": null,
      "outputs": []
    },
    {
      "cell_type": "code",
      "source": [
        "print(\"max:\\n\",mean_map.max())\n",
        "print(pred_map.max())\n",
        "print(\"min:\\n\",mean_map.min())\n",
        "print(pred_map.min())"
      ],
      "metadata": {
        "id": "kqRHkficZlq_"
      },
      "execution_count": null,
      "outputs": []
    },
    {
      "cell_type": "code",
      "source": [
        "vmin = -3\n",
        "vmax = 11.2\n",
        "plt.figure()\n",
        "\n",
        "f, axarr = plt.subplots(1,2)\n",
        "\n",
        "axarr[0].imshow(mean_map, origin=\"lower\", vmin = vmin, vmax = vmax) #-3, 11.5\n",
        "axarr[0].set_title('Mean true map')\n",
        "\n",
        "axarr[1].imshow(pred_map, origin=\"lower\", vmin = vmin, vmax = vmax)\n",
        "axarr[1].set_title('Mean predicted map')\n",
        "\n",
        "clb = f.colorbar(axarr[0].imshow(mean_map, origin=\"lower\", vmin = vmin, vmax = vmax), ax=axarr, extend = 'both')"
      ],
      "metadata": {
        "id": "-ReZOW2ZGybs"
      },
      "execution_count": null,
      "outputs": []
    },
    {
      "cell_type": "code",
      "source": [
        "plt.imshow(range_map, origin = \"lower\")\n",
        "plt.colorbar()"
      ],
      "metadata": {
        "id": "4Z6SABXcmDGE"
      },
      "execution_count": null,
      "outputs": []
    },
    {
      "cell_type": "markdown",
      "source": [
        "RMSE map"
      ],
      "metadata": {
        "id": "C8t3qpjRN05u"
      }
    },
    {
      "cell_type": "code",
      "source": [
        "sum_of_squares=(best_prediction - true_values)**2\n",
        "mse = np.mean(sum_of_squares, axis = 0)\n",
        "rmse = np.sqrt(mse)\n",
        "fig = plt.imshow(rmse, origin=\"lower\")\n",
        "plt.colorbar()\n",
        "fig.axes.get_xaxis().set_visible(False)\n",
        "fig.axes.get_yaxis().set_visible(False)"
      ],
      "metadata": {
        "id": "4OOQfu-W-DU1"
      },
      "execution_count": null,
      "outputs": []
    },
    {
      "cell_type": "markdown",
      "source": [
        "NRMSE map"
      ],
      "metadata": {
        "id": "hH1ByDJg67d5"
      }
    },
    {
      "cell_type": "code",
      "source": [
        "nrmse = np.divide(rmse,range_map)*100\n",
        "fig = plt.imshow(nrmse, origin=\"lower\")\n",
        "plt.colorbar()\n",
        "fig.axes.get_xaxis().set_visible(False)\n",
        "fig.axes.get_yaxis().set_visible(False)"
      ],
      "metadata": {
        "id": "IoG0pP9k68hI"
      },
      "execution_count": null,
      "outputs": []
    },
    {
      "cell_type": "code",
      "source": [
        "grace_pixel_mean = np.mean(grace_norm['lwe_thickness'].values, axis = 0)\n",
        "squares = (grace_ds['lwe_thickness'].values - grace_pixel_mean)**2\n",
        "grace_ds_mse = np.mean(squares, axis = 0)\n",
        "grace_ds_rmse = np.sqrt(grace_ds_mse)\n",
        "plt.imshow(grace_ds_rmse, origin=\"lower\")"
      ],
      "metadata": {
        "id": "_HdgiT77Tink"
      },
      "execution_count": null,
      "outputs": []
    },
    {
      "cell_type": "code",
      "source": [
        "era5_names = list(era5_ds.keys())\n",
        "era5_means = list()\n",
        "era5_rmse = np.empty((len(era5_names),28,28))\n",
        "era5_range = np.empty((len(era5_names),28,28))\n",
        "era5_nrmse = np.empty((len(era5_names),28,28))\n",
        "era5_nrmse_mean = np.empty((len(era5_names),28,28))\n",
        "\n",
        "for i in range(0,len(era5_names)):\n",
        "  era5_means.append(np.mean(era5_std[era5_names[i]].values, axis = 0))\n",
        "  era_squares = (era5_std[era5_names[i]].values - era5_means[i])**2\n",
        "  era5_rmse[i] = np.sqrt(np.mean(era_squares,axis = 0))\n",
        "  era5_range[i] = ((np.max(era5_std[era5_names[i]].values, axis = 0)) - (np.min(era5_std[era5_names[i]].values, axis = 0)) )\n",
        "  era5_nrmse[i] = np.divide(era5_rmse[i],era5_range[i])*100\n",
        "  era5_nrmse_mean[i] = np.divide(era5_rmse[i],era5_means[i])*100"
      ],
      "metadata": {
        "id": "9tF56PqrVLAe"
      },
      "execution_count": null,
      "outputs": []
    },
    {
      "cell_type": "code",
      "source": [
        "plt.imshow(np.mean(era5_rmse, axis = 0), origin=\"lower\")"
      ],
      "metadata": {
        "id": "1hZpZy5PY0iO"
      },
      "execution_count": null,
      "outputs": []
    },
    {
      "cell_type": "code",
      "source": [
        "plt.imshow(era5_rmse[7], origin=\"lower\")\n",
        "plt.colorbar()"
      ],
      "metadata": {
        "id": "E-9XYZL2YfY6"
      },
      "execution_count": null,
      "outputs": []
    },
    {
      "cell_type": "markdown",
      "source": [
        "# Save rasters\n",
        "\n",
        "Take the images from 2016-11 to 2017-2 (-8 to -5); 2015-12 2016-03 (-19 to -16)"
      ],
      "metadata": {
        "id": "OC3jBZws3UkC"
      }
    },
    {
      "cell_type": "code",
      "source": [
        "sel_month = -16"
      ],
      "metadata": {
        "id": "IyEqVXdI20M9"
      },
      "execution_count": null,
      "outputs": []
    },
    {
      "cell_type": "code",
      "source": [
        "true_grace = copy.deepcopy(grace_ds['lwe_thickness'][sel_month])\n",
        "\n",
        "true_grace = true_grace.rename({'time':'z' , 'lon':'x' , 'lat':'y'})\n",
        "#true_grace = true_grace.rio.write_crs(\"WGS84\")\n",
        "true_grace = true_grace.drop_vars(['z','spatial_ref'])\n",
        "del true_grace.attrs['grid_mapping']"
      ],
      "metadata": {
        "id": "YgiM0qgmbbiu"
      },
      "execution_count": null,
      "outputs": []
    },
    {
      "cell_type": "code",
      "source": [
        "predicted_grace=xarray.DataArray(\n",
        "                data = Y_pred_rescaled[sel_month,:,:,0],\n",
        "                dims = [\"y\",\"x\"],\n",
        "                coords= dict(y = (\"y\", true_grace.coords[\"y\"].values),\n",
        "                             x = (\"x\", true_grace.coords[\"x\"].values))\n",
        "                )"
      ],
      "metadata": {
        "id": "iqaU3ypL366a"
      },
      "execution_count": null,
      "outputs": []
    },
    {
      "cell_type": "code",
      "source": [
        "mean_nrmse_grace=xarray.DataArray(\n",
        "                data = nrmse,\n",
        "                dims = [\"y\",\"x\"],\n",
        "                coords= dict(y = (\"y\", true_grace.coords[\"y\"].values),\n",
        "                             x = (\"x\", true_grace.coords[\"x\"].values))\n",
        "                )"
      ],
      "metadata": {
        "id": "pFlUmLnYbrP8"
      },
      "execution_count": null,
      "outputs": []
    },
    {
      "cell_type": "code",
      "source": [
        "true_grace.rio.to_raster('/gdrive/MyDrive/Sensors/Data/GRACE/grace_'+str(sel_month)+'.tif')"
      ],
      "metadata": {
        "id": "ehIr19kX3gXi"
      },
      "execution_count": null,
      "outputs": []
    },
    {
      "cell_type": "code",
      "source": [
        "predicted_grace.rio.to_raster('/gdrive/MyDrive/Sensors/Data/GRACE/grace_pred_'+str(sel_month)+'.tif')"
      ],
      "metadata": {
        "id": "DSm790MCXlSJ"
      },
      "execution_count": null,
      "outputs": []
    },
    {
      "cell_type": "code",
      "source": [
        "mean_nrmse_grace.rio.to_raster('/gdrive/MyDrive/Sensors/Data/GRACE/grace_nrmse-range_normalized.tif')"
      ],
      "metadata": {
        "id": "BUeSBGElb1cv"
      },
      "execution_count": null,
      "outputs": []
    },
    {
      "cell_type": "markdown",
      "source": [
        "# Test and error maps with CI boundaries"
      ],
      "metadata": {
        "id": "2kNixGrT65b9"
      }
    },
    {
      "cell_type": "code",
      "source": [
        "import fiona\n",
        "import geopandas as gpd\n",
        "import rasterio\n",
        "import rasterio.mask\n",
        "import rasterio.plot\n",
        "import matplotlib as mpl\n",
        "from descartes import PolygonPatch"
      ],
      "metadata": {
        "id": "fbop1Ro86-PF"
      },
      "execution_count": null,
      "outputs": []
    },
    {
      "cell_type": "code",
      "source": [
        "# with GEOPANDAS\n",
        "CI_bounds = gpd.read_file(\"/gdrive/MyDrive/Sensors/Data/GRACE/shapefile_CI/civ_admbnda_adm0_cntig_20180706.shp\")"
      ],
      "metadata": {
        "id": "SLJwdlvhESyI"
      },
      "execution_count": null,
      "outputs": []
    },
    {
      "cell_type": "code",
      "source": [
        "grace_CI_8 = rasterio.open(\"/gdrive/MyDrive/Sensors/Data/GRACE/grace_-8.tif\")\n",
        "grace_CI_7 = rasterio.open(\"/gdrive/MyDrive/Sensors/Data/GRACE/grace_-7.tif\")\n",
        "grace_CI_6 = rasterio.open(\"/gdrive/MyDrive/Sensors/Data/GRACE/grace_-6.tif\")\n",
        "grace_CI_5 = rasterio.open(\"/gdrive/MyDrive/Sensors/Data/GRACE/grace_-5.tif\")\n",
        "\n",
        "grace_CI_19 = rasterio.open(\"/gdrive/MyDrive/Sensors/Data/GRACE/grace_-19.tif\")\n",
        "grace_CI_18 = rasterio.open(\"/gdrive/MyDrive/Sensors/Data/GRACE/grace_-18.tif\")\n",
        "grace_CI_17 = rasterio.open(\"/gdrive/MyDrive/Sensors/Data/GRACE/grace_-17.tif\")\n",
        "grace_CI_16 = rasterio.open(\"/gdrive/MyDrive/Sensors/Data/GRACE/grace_-16.tif\")\n",
        "\n",
        "\n",
        "grace_pred_CI_8 = rasterio.open(\"/gdrive/MyDrive/Sensors/Data/GRACE/grace_pred_-8.tif\")\n",
        "grace_pred_CI_7 = rasterio.open(\"/gdrive/MyDrive/Sensors/Data/GRACE/grace_pred_-7.tif\")\n",
        "grace_pred_CI_6 = rasterio.open(\"/gdrive/MyDrive/Sensors/Data/GRACE/grace_pred_-6.tif\")\n",
        "grace_pred_CI_5 = rasterio.open(\"/gdrive/MyDrive/Sensors/Data/GRACE/grace_pred_-5.tif\")\n",
        "\n",
        "grace_pred_CI_19 = rasterio.open(\"/gdrive/MyDrive/Sensors/Data/GRACE/grace_pred_-19.tif\")\n",
        "grace_pred_CI_18 = rasterio.open(\"/gdrive/MyDrive/Sensors/Data/GRACE/grace_pred_-18.tif\")\n",
        "grace_pred_CI_17 = rasterio.open(\"/gdrive/MyDrive/Sensors/Data/GRACE/grace_pred_-17.tif\")\n",
        "grace_pred_CI_16 = rasterio.open(\"/gdrive/MyDrive/Sensors/Data/GRACE/grace_pred_-16.tif\")\n",
        "\n",
        "grace_CI_nrmse = rasterio.open(\"/gdrive/MyDrive/Sensors/Data/GRACE/grace_nrmse-range_normalized.tif\")"
      ],
      "metadata": {
        "id": "JLAXK-TsBpch"
      },
      "execution_count": null,
      "outputs": []
    },
    {
      "cell_type": "code",
      "source": [
        "nrmse_crop = rasterio.mask.mask(grace_CI_nrmse, CI_bounds['geometry'], crop=False)"
      ],
      "metadata": {
        "id": "JNFh1a9naiN0"
      },
      "execution_count": null,
      "outputs": []
    },
    {
      "cell_type": "code",
      "source": [
        "grace_CI_nrmse.read(1).max()"
      ],
      "metadata": {
        "id": "xulO5PB0dyw0"
      },
      "execution_count": null,
      "outputs": []
    },
    {
      "cell_type": "code",
      "source": [
        "nrmse_crop[0].max()"
      ],
      "metadata": {
        "id": "5TYjD2rGbEDW"
      },
      "execution_count": null,
      "outputs": []
    },
    {
      "cell_type": "code",
      "source": [
        "plt.imshow(nrmse_crop[0][0], origin = 'lower')"
      ],
      "metadata": {
        "id": "C3qE9c2SYxuI"
      },
      "execution_count": null,
      "outputs": []
    },
    {
      "cell_type": "code",
      "source": [
        "fig, ax = plt.subplots()\n",
        "\n",
        "fig.suptitle('TWSA')\n",
        "\n",
        "xlim = ([-9.0,-2.0])\n",
        "ylim = ([4.0,11.0])\n",
        "\n",
        "ax.set_xlim(xlim)\n",
        "ax.set_ylim(ylim)\n",
        "ax.set_axis_off()\n",
        "\n",
        "image_hidden = ax.imshow(grace_CI_5.read(1), cmap='RdBu')\n",
        "\n",
        "image = rasterio.plot.show(\n",
        "  grace_CI_5,\n",
        "  ax=ax,\n",
        "  alpha = 0.8,\n",
        "  cmap = 'RdBu'\n",
        "  )\n",
        "\n",
        "boundaries = CI_bounds.boundary.plot(\n",
        "  ax = ax,\n",
        "  color = 'Black',\n",
        "  alpha = 1,\n",
        "  linewidth = 1.5\n",
        "  )\n",
        "\n",
        "clb = fig.colorbar(image_hidden, ax=ax, extend = 'both')\n",
        "clb.ax.set_title('TWSA [cm]')"
      ],
      "metadata": {
        "id": "sGWVncOxG8tQ"
      },
      "execution_count": null,
      "outputs": []
    },
    {
      "cell_type": "code",
      "source": [
        "print(grace_CI_5.read(1).max())\n",
        "print(grace_pred_CI_5.read(1).max())"
      ],
      "metadata": {
        "id": "X_5AgIOkfuFH"
      },
      "execution_count": null,
      "outputs": []
    },
    {
      "cell_type": "code",
      "source": [
        "fig, (true, pred) = plt.subplots(1,2)\n",
        "\n",
        "fig.suptitle('2017-02-01', y=0.85)\n",
        "\n",
        "vmin = -13.60\n",
        "vmax = 13.60\n",
        "\n",
        "xlim = ([-9.0,-2.0])\n",
        "ylim = ([4.0,11.0])\n",
        "\n",
        "true.set_xlim(xlim)\n",
        "true.set_ylim(ylim)\n",
        "true.set_axis_off()\n",
        "\n",
        "pred.set_xlim(xlim)\n",
        "pred.set_ylim(ylim)\n",
        "pred.set_axis_off()\n",
        "\n",
        "true.set_title('Truth')\n",
        "rasterio.plot.show(\n",
        "  grace_CI_5,\n",
        "  ax=true,\n",
        "  alpha = 0.8,\n",
        "  cmap = 'RdBu',\n",
        "  vmin = vmin,\n",
        "  vmax = vmax\n",
        "  )\n",
        "\n",
        "CI_bounds.boundary.plot(\n",
        "  ax = true,\n",
        "  color = 'Black',\n",
        "  alpha = 1,\n",
        "  linewidth = 1.5\n",
        "  )\n",
        "\n",
        "\n",
        "pred.set_title('Prediction')\n",
        "\n",
        "rasterio.plot.show(\n",
        "  grace_pred_CI_5,\n",
        "  ax=pred,\n",
        "  alpha = 0.8,\n",
        "  cmap = 'RdBu',\n",
        "  vmin = vmin,\n",
        "  vmax = vmax\n",
        "  )\n",
        "\n",
        "CI_bounds.boundary.plot(\n",
        "  ax = pred,\n",
        "  color = 'Black',\n",
        "  alpha = 1,\n",
        "  linewidth = 1.5\n",
        "  )\n",
        "\n",
        "\n",
        "clb = fig.colorbar(pred.imshow(grace_pred_CI_5.read(1), cmap='RdBu', vmin = vmin, vmax = vmax),\n",
        "                   cax=plt.axes([0.25, 0.15, 0.5, 0.02]),\n",
        "                   location = 'bottom', extend = 'both')\n",
        "clb.ax.set_title('TWSA [cm]')\n",
        "plt.show()"
      ],
      "metadata": {
        "id": "BW--E1nfcePP"
      },
      "execution_count": null,
      "outputs": []
    },
    {
      "cell_type": "code",
      "source": [
        "fig, plots = plt.subplots(2,4)\n",
        "\n",
        "vmin = -20\n",
        "vmax = 20\n",
        "\n",
        "xlim = ([-9.0,-2.0])\n",
        "ylim = ([4.0,11.0])\n",
        "\n",
        "for i in range(0,2):\n",
        "  for j in range(0,4):\n",
        "    plots[i,j].set_xlim(xlim)\n",
        "    plots[i,j].set_ylim(ylim)\n",
        "    plots[i,j].set_axis_off()\n",
        "\n",
        "# 2016-11\n",
        "plots[0,0].set_title('Truth 2016-11-01', fontsize = 'small')\n",
        "rasterio.plot.show(\n",
        "  grace_CI_8,\n",
        "  ax=plots[0,0],\n",
        "  alpha = 0.8,\n",
        "  cmap = 'RdBu',\n",
        "  vmin = vmin,\n",
        "  vmax = vmax\n",
        "  )\n",
        "\n",
        "CI_bounds.boundary.plot(\n",
        "  ax = plots[0,0],\n",
        "  color = 'Black',\n",
        "  alpha = 1,\n",
        "  linewidth = 1.5\n",
        "  )\n",
        "\n",
        "plots[1,0].set_title('Prediction 2016-11-01', fontsize = 'small')\n",
        "rasterio.plot.show(\n",
        "  grace_pred_CI_8,\n",
        "  ax=plots[1,0],\n",
        "  alpha = 0.8,\n",
        "  cmap = 'RdBu',\n",
        "  vmin = vmin,\n",
        "  vmax = vmax\n",
        "  )\n",
        "\n",
        "CI_bounds.boundary.plot(\n",
        "  ax = plots[1,0],\n",
        "  color = 'Black',\n",
        "  alpha = 1,\n",
        "  linewidth = 1.5\n",
        "  )\n",
        "\n",
        "\n",
        "# 2016-12\n",
        "plots[0,1].set_title('Truth 2016-12-01', fontsize = 'small')\n",
        "rasterio.plot.show(\n",
        "  grace_CI_7,\n",
        "  ax=plots[0,1],\n",
        "  alpha = 0.8,\n",
        "  cmap = 'RdBu',\n",
        "  vmin = vmin,\n",
        "  vmax = vmax\n",
        "  )\n",
        "\n",
        "CI_bounds.boundary.plot(\n",
        "  ax = plots[0,1],\n",
        "  color = 'Black',\n",
        "  alpha = 1,\n",
        "  linewidth = 1.5\n",
        "  )\n",
        "\n",
        "plots[1,1].set_title('Prediction 2016-12-01', fontsize = 'small')\n",
        "rasterio.plot.show(\n",
        "  grace_pred_CI_7,\n",
        "  ax=plots[1,1],\n",
        "  alpha = 0.8,\n",
        "  cmap = 'RdBu',\n",
        "  vmin = vmin,\n",
        "  vmax = vmax\n",
        "  )\n",
        "\n",
        "CI_bounds.boundary.plot(\n",
        "  ax = plots[1,1],\n",
        "  color = 'Black',\n",
        "  alpha = 1,\n",
        "  linewidth = 1.5\n",
        "  )\n",
        "\n",
        "# 2017-01\n",
        "plots[0,2].set_title('Truth 2017-01-01', fontsize = 'small')\n",
        "rasterio.plot.show(\n",
        "  grace_CI_6,\n",
        "  ax=plots[0,2],\n",
        "  alpha = 0.8,\n",
        "  cmap = 'RdBu',\n",
        "  vmin = vmin,\n",
        "  vmax = vmax\n",
        "  )\n",
        "\n",
        "CI_bounds.boundary.plot(\n",
        "  ax = plots[0,2],\n",
        "  color = 'Black',\n",
        "  alpha = 1,\n",
        "  linewidth = 1.5\n",
        "  )\n",
        "\n",
        "plots[1,2].set_title('Prediction 2017-01-01', fontsize = 'small')\n",
        "rasterio.plot.show(\n",
        "  grace_pred_CI_6,\n",
        "  ax=plots[1,2],\n",
        "  alpha = 0.8,\n",
        "  cmap = 'RdBu',\n",
        "  vmin = vmin,\n",
        "  vmax = vmax\n",
        "  )\n",
        "\n",
        "CI_bounds.boundary.plot(\n",
        "  ax = plots[1,2],\n",
        "  color = 'Black',\n",
        "  alpha = 1,\n",
        "  linewidth = 1.5\n",
        "  )\n",
        "\n",
        "\n",
        "# 2017-02\n",
        "plots[0,3].set_title('Truth 2017-02-01', fontsize = 'small')\n",
        "rasterio.plot.show(\n",
        "  grace_CI_5,\n",
        "  ax=plots[0,3],\n",
        "  alpha = 0.8,\n",
        "  cmap = 'RdBu',\n",
        "  vmin = vmin,\n",
        "  vmax = vmax\n",
        "  )\n",
        "\n",
        "CI_bounds.boundary.plot(\n",
        "  ax = plots[0,3],\n",
        "  color = 'Black',\n",
        "  alpha = 1,\n",
        "  linewidth = 1.5\n",
        "  )\n",
        "\n",
        "plots[1,3].set_title('Prediction 2017-02-01', fontsize = 'small')\n",
        "rasterio.plot.show(\n",
        "  grace_pred_CI_5,\n",
        "  ax=plots[1,3],\n",
        "  alpha = 0.8,\n",
        "  cmap = 'RdBu',\n",
        "  vmin = vmin,\n",
        "  vmax = vmax\n",
        "  )\n",
        "\n",
        "CI_bounds.boundary.plot(\n",
        "  ax = plots[1,3],\n",
        "  color = 'Black',\n",
        "  alpha = 1,\n",
        "  linewidth = 1.5\n",
        "  )\n",
        "\n",
        "plt.subplots_adjust(hspace=-0.3)\n",
        "fig.tight_layout(pad=0.5)\n",
        "\n",
        "clb = fig.colorbar(pred.imshow(grace_pred_CI_5.read(1), cmap='RdBu', vmin = vmin, vmax = vmax),\n",
        "                   cax=plt.axes([0.25, 0.07, 0.5, 0.02]),\n",
        "                   location = 'bottom', extend = 'both')\n",
        "clb.ax.set_title('TWSA [cm]')\n",
        "plt.show()"
      ],
      "metadata": {
        "id": "1RA6GSSJ6JuU"
      },
      "execution_count": null,
      "outputs": []
    },
    {
      "cell_type": "code",
      "source": [
        "fig, plots = plt.subplots(2,4)\n",
        "\n",
        "vmin = -20\n",
        "vmax = 20\n",
        "\n",
        "xlim = ([-9.0,-2.0])\n",
        "ylim = ([4.0,11.0])\n",
        "\n",
        "for i in range(0,2):\n",
        "  for j in range(0,4):\n",
        "    plots[i,j].set_xlim(xlim)\n",
        "    plots[i,j].set_ylim(ylim)\n",
        "    plots[i,j].set_axis_off()\n",
        "\n",
        "# 2016-11\n",
        "plots[0,0].set_title('Truth 2015-12-01', fontsize = 'small')\n",
        "rasterio.plot.show(\n",
        "  grace_CI_19,\n",
        "  ax=plots[0,0],\n",
        "  alpha = 0.8,\n",
        "  cmap = 'RdBu',\n",
        "  vmin = vmin,\n",
        "  vmax = vmax\n",
        "  )\n",
        "\n",
        "CI_bounds.boundary.plot(\n",
        "  ax = plots[0,0],\n",
        "  color = 'Black',\n",
        "  alpha = 1,\n",
        "  linewidth = 1.5\n",
        "  )\n",
        "\n",
        "plots[1,0].set_title('Prediction 2015-12-01', fontsize = 'small')\n",
        "rasterio.plot.show(\n",
        "  grace_pred_CI_19,\n",
        "  ax=plots[1,0],\n",
        "  alpha = 0.8,\n",
        "  cmap = 'RdBu',\n",
        "  vmin = vmin,\n",
        "  vmax = vmax\n",
        "  )\n",
        "\n",
        "CI_bounds.boundary.plot(\n",
        "  ax = plots[1,0],\n",
        "  color = 'Black',\n",
        "  alpha = 1,\n",
        "  linewidth = 1.5\n",
        "  )\n",
        "\n",
        "\n",
        "# 2016-12\n",
        "plots[0,1].set_title('Truth 2016-01-01', fontsize = 'small')\n",
        "rasterio.plot.show(\n",
        "  grace_CI_18,\n",
        "  ax=plots[0,1],\n",
        "  alpha = 0.8,\n",
        "  cmap = 'RdBu',\n",
        "  vmin = vmin,\n",
        "  vmax = vmax\n",
        "  )\n",
        "\n",
        "CI_bounds.boundary.plot(\n",
        "  ax = plots[0,1],\n",
        "  color = 'Black',\n",
        "  alpha = 1,\n",
        "  linewidth = 1.5\n",
        "  )\n",
        "\n",
        "plots[1,1].set_title('Prediction 2016-01-01', fontsize = 'small')\n",
        "rasterio.plot.show(\n",
        "  grace_pred_CI_18,\n",
        "  ax=plots[1,1],\n",
        "  alpha = 0.8,\n",
        "  cmap = 'RdBu',\n",
        "  vmin = vmin,\n",
        "  vmax = vmax\n",
        "  )\n",
        "\n",
        "CI_bounds.boundary.plot(\n",
        "  ax = plots[1,1],\n",
        "  color = 'Black',\n",
        "  alpha = 1,\n",
        "  linewidth = 1.5\n",
        "  )\n",
        "\n",
        "# 2017-01\n",
        "plots[0,2].set_title('Truth 2016-02-01', fontsize = 'small')\n",
        "rasterio.plot.show(\n",
        "  grace_CI_17,\n",
        "  ax=plots[0,2],\n",
        "  alpha = 0.8,\n",
        "  cmap = 'RdBu',\n",
        "  vmin = vmin,\n",
        "  vmax = vmax\n",
        "  )\n",
        "\n",
        "CI_bounds.boundary.plot(\n",
        "  ax = plots[0,2],\n",
        "  color = 'Black',\n",
        "  alpha = 1,\n",
        "  linewidth = 1.5\n",
        "  )\n",
        "\n",
        "plots[1,2].set_title('Prediction 2016-02-01', fontsize = 'small')\n",
        "rasterio.plot.show(\n",
        "  grace_pred_CI_17,\n",
        "  ax=plots[1,2],\n",
        "  alpha = 0.8,\n",
        "  cmap = 'RdBu',\n",
        "  vmin = vmin,\n",
        "  vmax = vmax\n",
        "  )\n",
        "\n",
        "CI_bounds.boundary.plot(\n",
        "  ax = plots[1,2],\n",
        "  color = 'Black',\n",
        "  alpha = 1,\n",
        "  linewidth = 1.5\n",
        "  )\n",
        "\n",
        "\n",
        "# 2017-02\n",
        "plots[0,3].set_title('Truth 2016-03-01', fontsize = 'small')\n",
        "rasterio.plot.show(\n",
        "  grace_CI_16,\n",
        "  ax=plots[0,3],\n",
        "  alpha = 0.8,\n",
        "  cmap = 'RdBu',\n",
        "  vmin = vmin,\n",
        "  vmax = vmax\n",
        "  )\n",
        "\n",
        "CI_bounds.boundary.plot(\n",
        "  ax = plots[0,3],\n",
        "  color = 'Black',\n",
        "  alpha = 1,\n",
        "  linewidth = 1.5\n",
        "  )\n",
        "\n",
        "plots[1,3].set_title('Prediction 2016-03-01', fontsize = 'small')\n",
        "rasterio.plot.show(\n",
        "  grace_pred_CI_16,\n",
        "  ax=plots[1,3],\n",
        "  alpha = 0.8,\n",
        "  cmap = 'RdBu',\n",
        "  vmin = vmin,\n",
        "  vmax = vmax\n",
        "  )\n",
        "\n",
        "CI_bounds.boundary.plot(\n",
        "  ax = plots[1,3],\n",
        "  color = 'Black',\n",
        "  alpha = 1,\n",
        "  linewidth = 1.5\n",
        "  )\n",
        "\n",
        "plt.subplots_adjust(hspace=-0.3)\n",
        "fig.tight_layout(pad=0.5)\n",
        "\n",
        "clb = fig.colorbar(pred.imshow(grace_pred_CI_16.read(1), cmap='RdBu', vmin = vmin, vmax = vmax),\n",
        "                   cax=plt.axes([0.25, 0.07, 0.5, 0.02]),\n",
        "                   location = 'bottom', extend = 'both')\n",
        "clb.ax.set_title('TWSA [cm]')\n",
        "plt.show()"
      ],
      "metadata": {
        "id": "S_dXKpztU9NG"
      },
      "execution_count": null,
      "outputs": []
    },
    {
      "cell_type": "code",
      "source": [
        "fig, ax = plt.subplots()\n",
        "\n",
        "\n",
        "xlim = ([-9.0,-2.0])\n",
        "ylim = ([4.0,11.0])\n",
        "\n",
        "ax.set_xlim(xlim)\n",
        "ax.set_ylim(ylim)\n",
        "ax.set_axis_off()\n",
        "\n",
        "image_hidden = ax.imshow(grace_CI_nrmse.read(1), cmap='RdPu', vmin = 0, vmax = 35)\n",
        "\n",
        "\n",
        "image = rasterio.plot.show(\n",
        "  grace_CI_nrmse,\n",
        "  ax=ax,\n",
        "  alpha = 0.8,\n",
        "  cmap = 'RdPu'\n",
        "  )\n",
        "\n",
        "boundaries = CI_bounds.boundary.plot(\n",
        "  ax = ax,\n",
        "  color = 'Black',\n",
        "  alpha = 1,\n",
        "  linewidth = 1.5\n",
        "  )\n",
        "\n",
        "clb = fig.colorbar(image_hidden, ax=ax, extend = 'both')\n",
        "clb.ax.set_title('NRMSE [%]')"
      ],
      "metadata": {
        "id": "qr9asq3oblog"
      },
      "execution_count": null,
      "outputs": []
    }
  ],
  "metadata": {
    "colab": {
      "provenance": [],
      "gpuType": "T4",
      "include_colab_link": true
    },
    "kernelspec": {
      "display_name": "Python 3",
      "name": "python3"
    },
    "language_info": {
      "name": "python"
    },
    "accelerator": "GPU"
  },
  "nbformat": 4,
  "nbformat_minor": 0
}